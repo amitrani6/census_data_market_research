{
 "cells": [
  {
   "cell_type": "markdown",
   "id": "genuine-designation",
   "metadata": {},
   "source": [
    "# Accessing Data From The US Census\n",
    "\n",
    "This notebook contains code to access data from the US Census' API, specifically the **American Community Survey 5-Year Data (2009-2019)** (ACS, [*link*)](https://www.census.gov/data/developers/data-sets/acs-5year.html). This survey was selected in lieu of the 1-Year version as ZIP Codes are only supported at the five year level.\n",
    "\n",
    "The schedule for the release of the data is located [here](https://www.census.gov/programs-surveys/acs/news/data-releases/2020/release-schedule.html). As of August 8, 2021 the 2019 ACS was the most recent release, which does not account for the effects of the lockdowns.\n",
    "\n",
    "The [examples](https://api.census.gov/data/2019/acs/acs5/examples.html) page contains the formatting necessary to make calls and lists the geographic area of data that is available."
   ]
  },
  {
   "cell_type": "code",
   "execution_count": 1,
   "id": "average-national",
   "metadata": {},
   "outputs": [],
   "source": [
    "# Import the necessary libraries\n",
    "import pandas as pd\n",
    "import numpy as np\n",
    "import requests\n",
    "import ast\n",
    "import json\n",
    "from datetime import date\n",
    "import os\n",
    "from tqdm import tqdm\n",
    "from sodapy import Socrata"
   ]
  },
  {
   "cell_type": "code",
   "execution_count": 2,
   "id": "rising-wednesday",
   "metadata": {
    "scrolled": false
   },
   "outputs": [
    {
     "name": "stderr",
     "output_type": "stream",
     "text": [
      "WARNING:root:Requests made without an app_token will be subject to strict throttling limits.\n"
     ]
    }
   ],
   "source": [
    "client = Socrata('api.census.gov', None)"
   ]
  },
  {
   "cell_type": "markdown",
   "id": "explicit-bandwidth",
   "metadata": {},
   "source": [
    "## I. A Function To Get ZIP Code Level Data\n",
    "\n",
    "You must match the zipcode with the [state code](https://api.census.gov/data/2019/acs/acs5?get=NAME&for=state:*) in order to get the data.\n",
    "\n",
    "For instance *36* is the code for NY."
   ]
  },
  {
   "cell_type": "code",
   "execution_count": 3,
   "id": "neural-depression",
   "metadata": {},
   "outputs": [],
   "source": [
    "#A function for the API call\n",
    "def obtain_census_data(year, codes, state, zipcode):\n",
    "    zip_code_url = 'https://api.census.gov/data/{}/acs/acs5?get={}NAME&for=zip%20code%20tabulation%20area:{}&in=state:{}'.format(year, codes, zipcode, state)\n",
    "    zip_code_content = requests.get(zip_code_url)\n",
    "    zip_code_contenttext = zip_code_content.text.replace('\\n', '').replace('null', '\"Replace\"')\n",
    "    zip_code_information_list = ast.literal_eval(zip_code_contenttext)\n",
    "    return zip_code_information_list\n"
   ]
  },
  {
   "cell_type": "code",
   "execution_count": 4,
   "id": "mighty-going",
   "metadata": {
    "scrolled": false
   },
   "outputs": [
    {
     "data": {
      "text/plain": [
       "[['B01003_001E', 'NAME', 'state', 'zip code tabulation area'],\n",
       " ['83119', 'ZCTA5 11229', '36', '11229']]"
      ]
     },
     "execution_count": 4,
     "metadata": {},
     "output_type": "execute_result"
    }
   ],
   "source": [
    "# An example call for median income\n",
    "obtain_census_data(year = '2019', codes = 'B01003_001E,', state = '36', zipcode = '11229')"
   ]
  },
  {
   "cell_type": "code",
   "execution_count": 5,
   "id": "annoying-proxy",
   "metadata": {},
   "outputs": [],
   "source": [
    "census_codes = {\n",
    "    \"Total_Pop\": \"B01003_001E\",\n",
    "    \"Median_Age\": \"B01002_001E\",\n",
    "    \"Male_Over_18\": \"B05003_008E\",\n",
    "    \"Female_Over_18\": \"B05003_019E\",\n",
    "    'Median_Age_Of_Worker': \"B23013_001E\",\n",
    "    \"Median_Household_Income\": \"B19013_001E\",#Over past twelve months\n",
    "    \"Median_Income\": \"B06011_001E\", #Over past twelve months\n",
    "    \"Total_Wealthy_Households\": \"B19001_017E\", #Over past twelve months\n",
    "    \"Below_Poverty_Level_LTM\": \"B17001_002E\", #Over past twelve months\n",
    "    \"Median_Gross_Rent\": \"B25031_001E\",\n",
    "    \"Median_Gross_Rent_Studio\": \"B25031_002E\",\n",
    "    \"Median_Gross_Rent_1_BR\": \"B25031_003E\",\n",
    "    \"Median_Gross_Rent_2_BR\": \"B25031_004E\",\n",
    "    \"Median_Gross_Rent_3_BR\": \"B25031_005E\",\n",
    "    \"Median_Gross_Rent_4_BR\": \"B25031_006E\",\n",
    "    \"Median_Gross_Rent_5_BR\": \"B25031_007E\",\n",
    "    \"Gross_Rent_P_of_Inc_L10\": \"B25070_001E\",\n",
    "    \"Gross_Rent_P_of_Inc_10_14.9\": \"B25070_003E\",\n",
    "    \"Gross_Rent_P_of_Inc_15_19.9\": \"B25070_004E\",\n",
    "    \"Gross_Rent_P_of_Inc_20_24.9\": \"B25070_005E\",\n",
    "    \"Gross_Rent_P_of_Inc_25_29.9\": \"B25070_006E\",\n",
    "    \"Gross_Rent_P_of_Inc_30_34.9\": \"B25070_007E\",\n",
    "    \"Gross_Rent_P_of_Inc_35_39.9\": \"B25070_008E\",\n",
    "    \"Gross_Rent_P_of_Inc_40_49.9\": \"B25070_009E\",\n",
    "    \"Gross_Rent_P_of_Inc_G50\": \"B25070_010E\",\n",
    "    \"Gross_Rent_P_of_Inc_NA\": \"B25070_011E\"\n",
    "}"
   ]
  },
  {
   "cell_type": "code",
   "execution_count": 6,
   "id": "alive-radar",
   "metadata": {},
   "outputs": [],
   "source": [
    "inv_census_codes = {v: k for k, v in census_codes.items()}"
   ]
  },
  {
   "cell_type": "code",
   "execution_count": 7,
   "id": "naval-publication",
   "metadata": {
    "scrolled": true
   },
   "outputs": [
    {
     "data": {
      "text/plain": [
       "'B01003_001E,B01002_001E,B05003_008E,B05003_019E,B23013_001E,B19013_001E,B06011_001E,B19001_017E,B17001_002E,B25031_001E,B25031_002E,B25031_003E,B25031_004E,B25031_005E,B25031_006E,B25031_007E,B25070_001E,B25070_003E,B25070_004E,B25070_005E,B25070_006E,B25070_007E,B25070_008E,B25070_009E,B25070_010E,B25070_011E,'"
      ]
     },
     "execution_count": 7,
     "metadata": {},
     "output_type": "execute_result"
    }
   ],
   "source": [
    "#Inverts the dictionary so the columns can be renamed, add keys from the forthcoming index dictionary to this dictionary\n",
    "inv_census_codes = {v: k for k, v in census_codes.items()}\n",
    "# inv_census_codes.update({'District_Name':'District_Name', 'CD': 'CD', 'State_Id': 'State_Id','State': 'State', 'CD_Id_Year': 'CD_Id_Year'})\n",
    "\n",
    "#Creates a string of codes to be used in the API call\n",
    "columns_url = ''\n",
    "\n",
    "for key in census_codes:\n",
    "    columns_url += census_codes[key] + ','\n",
    "    \n",
    "columns_url"
   ]
  },
  {
   "cell_type": "code",
   "execution_count": 8,
   "id": "accomplished-timer",
   "metadata": {},
   "outputs": [],
   "source": [
    "zip_2019_data = obtain_census_data(year = '2019', codes = columns_url, state = '36', zipcode = '11229')\n",
    "zip_2018_data = obtain_census_data(year = '2018', codes = columns_url, state = '36', zipcode = '11229')\n",
    "zip_2017_data = obtain_census_data(year = '2017', codes = columns_url, state = '36', zipcode = '11229')\n",
    "zip_2016_data = obtain_census_data(year = '2016', codes = columns_url, state = '36', zipcode = '11229')\n",
    "zip_2015_data = obtain_census_data(year = '2015', codes = columns_url, state = '36', zipcode = '11229')"
   ]
  },
  {
   "cell_type": "code",
   "execution_count": 9,
   "id": "rough-characterization",
   "metadata": {},
   "outputs": [],
   "source": [
    "def convert_raw_to_dict(raw_data):\n",
    "    return {a[0]: a[1] for a in zip(*raw_data)}"
   ]
  },
  {
   "cell_type": "code",
   "execution_count": 10,
   "id": "primary-whale",
   "metadata": {},
   "outputs": [],
   "source": [
    "zip_2019_dict = convert_raw_to_dict(zip_2019_data)\n",
    "zip_2018_dict = convert_raw_to_dict(zip_2018_data)\n",
    "zip_2017_dict = convert_raw_to_dict(zip_2017_data)\n",
    "zip_2016_dict = convert_raw_to_dict(zip_2016_data)\n",
    "zip_2015_dict = convert_raw_to_dict(zip_2015_data)"
   ]
  },
  {
   "cell_type": "code",
   "execution_count": 11,
   "id": "historic-blast",
   "metadata": {},
   "outputs": [],
   "source": [
    "zip_2019_dict['Survey_Year'] = \"2019\"\n",
    "zip_2018_dict['Survey_Year'] = \"2018\"\n",
    "zip_2017_dict['Survey_Year'] = \"2017\"\n",
    "zip_2016_dict['Survey_Year'] = \"2016\"\n",
    "zip_2015_dict['Survey_Year'] = \"2015\""
   ]
  },
  {
   "cell_type": "code",
   "execution_count": 12,
   "id": "honey-ladder",
   "metadata": {},
   "outputs": [],
   "source": [
    "list_of_zip_dicts = [zip_2015_dict, zip_2016_dict, zip_2017_dict, zip_2018_dict, zip_2019_dict]"
   ]
  },
  {
   "cell_type": "code",
   "execution_count": 13,
   "id": "trained-advancement",
   "metadata": {},
   "outputs": [],
   "source": [
    "zip_df = pd.DataFrame(list_of_zip_dicts)"
   ]
  },
  {
   "cell_type": "code",
   "execution_count": 14,
   "id": "cultural-participation",
   "metadata": {},
   "outputs": [],
   "source": [
    "zip_df.columns = zip_df.columns.to_series().map(inv_census_codes)"
   ]
  },
  {
   "cell_type": "code",
   "execution_count": 15,
   "id": "academic-accommodation",
   "metadata": {},
   "outputs": [
    {
     "data": {
      "text/html": [
       "<div>\n",
       "<style scoped>\n",
       "    .dataframe tbody tr th:only-of-type {\n",
       "        vertical-align: middle;\n",
       "    }\n",
       "\n",
       "    .dataframe tbody tr th {\n",
       "        vertical-align: top;\n",
       "    }\n",
       "\n",
       "    .dataframe thead th {\n",
       "        text-align: right;\n",
       "    }\n",
       "</style>\n",
       "<table border=\"1\" class=\"dataframe\">\n",
       "  <thead>\n",
       "    <tr style=\"text-align: right;\">\n",
       "      <th></th>\n",
       "      <th>Total_Pop</th>\n",
       "      <th>Median_Age</th>\n",
       "      <th>Male_Over_18</th>\n",
       "      <th>Female_Over_18</th>\n",
       "      <th>Median_Age_Of_Worker</th>\n",
       "      <th>Median_Household_Income</th>\n",
       "      <th>Median_Income</th>\n",
       "      <th>Total_Wealthy_Households</th>\n",
       "      <th>Below_Poverty_Level_LTM</th>\n",
       "      <th>Median_Gross_Rent</th>\n",
       "      <th>...</th>\n",
       "      <th>Gross_Rent_P_of_Inc_25_29.9</th>\n",
       "      <th>Gross_Rent_P_of_Inc_30_34.9</th>\n",
       "      <th>Gross_Rent_P_of_Inc_35_39.9</th>\n",
       "      <th>Gross_Rent_P_of_Inc_40_49.9</th>\n",
       "      <th>Gross_Rent_P_of_Inc_G50</th>\n",
       "      <th>Gross_Rent_P_of_Inc_NA</th>\n",
       "      <th>NaN</th>\n",
       "      <th>NaN</th>\n",
       "      <th>NaN</th>\n",
       "      <th>NaN</th>\n",
       "    </tr>\n",
       "  </thead>\n",
       "  <tbody>\n",
       "    <tr>\n",
       "      <th>0</th>\n",
       "      <td>81732</td>\n",
       "      <td>40.7</td>\n",
       "      <td>30752</td>\n",
       "      <td>33840</td>\n",
       "      <td>42.9</td>\n",
       "      <td>52168</td>\n",
       "      <td>28282</td>\n",
       "      <td>1635</td>\n",
       "      <td>13085</td>\n",
       "      <td>1160</td>\n",
       "      <td>...</td>\n",
       "      <td>1430</td>\n",
       "      <td>1688</td>\n",
       "      <td>865</td>\n",
       "      <td>1370</td>\n",
       "      <td>4712</td>\n",
       "      <td>861</td>\n",
       "      <td>ZCTA5 11229</td>\n",
       "      <td>36</td>\n",
       "      <td>11229</td>\n",
       "      <td>2015</td>\n",
       "    </tr>\n",
       "    <tr>\n",
       "      <th>1</th>\n",
       "      <td>82914</td>\n",
       "      <td>40.6</td>\n",
       "      <td>31101</td>\n",
       "      <td>34161</td>\n",
       "      <td>42.7</td>\n",
       "      <td>55187</td>\n",
       "      <td>29137</td>\n",
       "      <td>1716</td>\n",
       "      <td>13357</td>\n",
       "      <td>1205</td>\n",
       "      <td>...</td>\n",
       "      <td>1485</td>\n",
       "      <td>1713</td>\n",
       "      <td>910</td>\n",
       "      <td>1314</td>\n",
       "      <td>4646</td>\n",
       "      <td>773</td>\n",
       "      <td>ZCTA5 11229</td>\n",
       "      <td>36</td>\n",
       "      <td>11229</td>\n",
       "      <td>2016</td>\n",
       "    </tr>\n",
       "    <tr>\n",
       "      <th>2</th>\n",
       "      <td>85776</td>\n",
       "      <td>40.5</td>\n",
       "      <td>31839</td>\n",
       "      <td>35581</td>\n",
       "      <td>42.7</td>\n",
       "      <td>59287</td>\n",
       "      <td>30313</td>\n",
       "      <td>2162</td>\n",
       "      <td>12563</td>\n",
       "      <td>1253</td>\n",
       "      <td>...</td>\n",
       "      <td>1346</td>\n",
       "      <td>1587</td>\n",
       "      <td>986</td>\n",
       "      <td>1427</td>\n",
       "      <td>4567</td>\n",
       "      <td>688</td>\n",
       "      <td>ZCTA5 11229</td>\n",
       "      <td>36</td>\n",
       "      <td>11229</td>\n",
       "      <td>2017</td>\n",
       "    </tr>\n",
       "    <tr>\n",
       "      <th>3</th>\n",
       "      <td>83615</td>\n",
       "      <td>40.8</td>\n",
       "      <td>31016</td>\n",
       "      <td>34790</td>\n",
       "      <td>42.5</td>\n",
       "      <td>60873</td>\n",
       "      <td>31259</td>\n",
       "      <td>2457</td>\n",
       "      <td>12184</td>\n",
       "      <td>1319</td>\n",
       "      <td>...</td>\n",
       "      <td>1224</td>\n",
       "      <td>1688</td>\n",
       "      <td>973</td>\n",
       "      <td>1462</td>\n",
       "      <td>4695</td>\n",
       "      <td>679</td>\n",
       "      <td>ZCTA5 11229</td>\n",
       "      <td>36</td>\n",
       "      <td>11229</td>\n",
       "      <td>2018</td>\n",
       "    </tr>\n",
       "    <tr>\n",
       "      <th>4</th>\n",
       "      <td>83119</td>\n",
       "      <td>40.8</td>\n",
       "      <td>30902</td>\n",
       "      <td>34328</td>\n",
       "      <td>42.5</td>\n",
       "      <td>64631</td>\n",
       "      <td>32648</td>\n",
       "      <td>2529</td>\n",
       "      <td>11301</td>\n",
       "      <td>1374</td>\n",
       "      <td>...</td>\n",
       "      <td>1329</td>\n",
       "      <td>1530</td>\n",
       "      <td>1005</td>\n",
       "      <td>1334</td>\n",
       "      <td>4533</td>\n",
       "      <td>821</td>\n",
       "      <td>ZCTA5 11229</td>\n",
       "      <td>36</td>\n",
       "      <td>11229</td>\n",
       "      <td>2019</td>\n",
       "    </tr>\n",
       "  </tbody>\n",
       "</table>\n",
       "<p>5 rows × 30 columns</p>\n",
       "</div>"
      ],
      "text/plain": [
       "  Total_Pop Median_Age Male_Over_18 Female_Over_18 Median_Age_Of_Worker  \\\n",
       "0     81732       40.7        30752          33840                 42.9   \n",
       "1     82914       40.6        31101          34161                 42.7   \n",
       "2     85776       40.5        31839          35581                 42.7   \n",
       "3     83615       40.8        31016          34790                 42.5   \n",
       "4     83119       40.8        30902          34328                 42.5   \n",
       "\n",
       "  Median_Household_Income Median_Income Total_Wealthy_Households  \\\n",
       "0                   52168         28282                     1635   \n",
       "1                   55187         29137                     1716   \n",
       "2                   59287         30313                     2162   \n",
       "3                   60873         31259                     2457   \n",
       "4                   64631         32648                     2529   \n",
       "\n",
       "  Below_Poverty_Level_LTM Median_Gross_Rent  ... Gross_Rent_P_of_Inc_25_29.9  \\\n",
       "0                   13085              1160  ...                        1430   \n",
       "1                   13357              1205  ...                        1485   \n",
       "2                   12563              1253  ...                        1346   \n",
       "3                   12184              1319  ...                        1224   \n",
       "4                   11301              1374  ...                        1329   \n",
       "\n",
       "  Gross_Rent_P_of_Inc_30_34.9 Gross_Rent_P_of_Inc_35_39.9  \\\n",
       "0                        1688                         865   \n",
       "1                        1713                         910   \n",
       "2                        1587                         986   \n",
       "3                        1688                         973   \n",
       "4                        1530                        1005   \n",
       "\n",
       "  Gross_Rent_P_of_Inc_40_49.9 Gross_Rent_P_of_Inc_G50 Gross_Rent_P_of_Inc_NA  \\\n",
       "0                        1370                    4712                    861   \n",
       "1                        1314                    4646                    773   \n",
       "2                        1427                    4567                    688   \n",
       "3                        1462                    4695                    679   \n",
       "4                        1334                    4533                    821   \n",
       "\n",
       "           NaN NaN    NaN   NaN  \n",
       "0  ZCTA5 11229  36  11229  2015  \n",
       "1  ZCTA5 11229  36  11229  2016  \n",
       "2  ZCTA5 11229  36  11229  2017  \n",
       "3  ZCTA5 11229  36  11229  2018  \n",
       "4  ZCTA5 11229  36  11229  2019  \n",
       "\n",
       "[5 rows x 30 columns]"
      ]
     },
     "execution_count": 15,
     "metadata": {},
     "output_type": "execute_result"
    }
   ],
   "source": [
    "zip_df.head()"
   ]
  },
  {
   "cell_type": "code",
   "execution_count": 16,
   "id": "fleet-strap",
   "metadata": {},
   "outputs": [],
   "source": [
    "zip_df.to_csv(\"demographic_data_for_11229.csv\")"
   ]
  },
  {
   "cell_type": "markdown",
   "id": "conscious-decade",
   "metadata": {},
   "source": [
    "The list of data codes available in the ACS survey can be found in each year's site under the table variables section. These codes may change between years. It is necessary to link the codes between years."
   ]
  },
  {
   "cell_type": "code",
   "execution_count": 35,
   "id": "inappropriate-platform",
   "metadata": {},
   "outputs": [],
   "source": [
    "census_codes = {\n",
    "    \"Total_Pop\": {\"2019\": \"B01003_001E\", \"2018\": \"\", \"2017\": \"\", \"2016\": \"\", \"2015\": \"\"},\n",
    "    \"Median_Age\": {\"2019\": \"B01002_001E\", \"2018\": \"\", \"2017\": \"\", \"2016\": \"\", \"2015\": \"\"},\n",
    "    \"Male_Over_18\": {\"2019\": \"B05003_008E\", \"2018\": \"\", \"2017\": \"\", \"2016\": \"\", \"2015\": \"\"},\n",
    "    \"Female_Over_18\": {\"2019\": \"B05003_019E\", \"2018\": \"\", \"2017\": \"\", \"2016\": \"\", \"2015\": \"\"},\n",
    "    'Median_Age_Of_Worker': {\"2019\": \"B23013_001E\", \"2018\": \"\", \"2017\": \"\", \"2016\": \"\", \"2015\": \"\"},\n",
    "    \"Median_Household_Income\": {\"2019\": \"B19013_001E\", \"2018\": \"\", \"2017\": \"\", \"2016\": \"\", \"2015\": \"\"}, #Over past twelve months\n",
    "    \"Median_Income\": {\"2019\": \"B06011_001E\", \"2018\": \"\", \"2017\": \"\", \"2016\": \"\", \"2015\": \"\"}, #Over past twelve months\n",
    "    \"Total_Wealthy_Households\": {\"2019\": \"B19001_017E\", \"2018\": \"\", \"2017\": \"\", \"2016\": \"\", \"2015\": \"\"}, #Over past twelve months\n",
    "    \"Below_Poverty_Level_LTM\": {\"2019\": \"B17001_002E\", \"2018\": \"\", \"2017\": \"\", \"2016\": \"\", \"2015\": \"\"}, #Over past twelve months\n",
    "    \"Median_Gross_Rent\": {\"2019\": \"B25031_001E\", \"2018\": \"\", \"2017\": \"\", \"2016\": \"\", \"2015\": \"\"},\n",
    "    \"Median_Gross_Rent_Studio\": {\"2019\": \"B25031_002E\", \"2018\": \"\", \"2017\": \"\", \"2016\": \"\", \"2015\": \"\"},\n",
    "    \"Median_Gross_Rent_1_BR\": {\"2019\": \"B25031_003E\", \"2018\": \"\", \"2017\": \"\", \"2016\": \"\", \"2015\": \"\"},\n",
    "    \"Median_Gross_Rent_2_BR\": {\"2019\": \"B25031_004E\", \"2018\": \"\", \"2017\": \"\", \"2016\": \"\", \"2015\": \"\"},\n",
    "    \"Median_Gross_Rent_3_BR\": {\"2019\": \"B25031_005E\", \"2018\": \"\", \"2017\": \"\", \"2016\": \"\", \"2015\": \"\"},\n",
    "    \"Median_Gross_Rent_4_BR\": {\"2019\": \"B25031_006E\", \"2018\": \"\", \"2017\": \"\", \"2016\": \"\", \"2015\": \"\"},\n",
    "    \"Median_Gross_Rent_5_BR\": {\"2019\": \"B25031_007E\", \"2018\": \"\", \"2017\": \"\", \"2016\": \"\", \"2015\": \"\"},\n",
    "    \"Gross_Rent_P_of_Inc_L10\": {\"2019\": \"B25070_001E\", \"2018\": \"\", \"2017\": \"\", \"2016\": \"\", \"2015\": \"\"},\n",
    "    \"Gross_Rent_P_of_Inc_10_14.9\": {\"2019\": \"B25070_003E\", \"2018\": \"\", \"2017\": \"\", \"2016\": \"\", \"2015\": \"\"},\n",
    "    \"Gross_Rent_P_of_Inc_15_19.9\": {\"2019\": \"B25070_004E\", \"2018\": \"\", \"2017\": \"\", \"2016\": \"\", \"2015\": \"\"},\n",
    "    \"Gross_Rent_P_of_Inc_20_24.9\": {\"2019\": \"B25070_005E\", \"2018\": \"\", \"2017\": \"\", \"2016\": \"\", \"2015\": \"\"},\n",
    "    \"Gross_Rent_P_of_Inc_25_29.9\": {\"2019\": \"B25070_006E\", \"2018\": \"\", \"2017\": \"\", \"2016\": \"\", \"2015\": \"\"},\n",
    "    \"Gross_Rent_P_of_Inc_30_34.9\": {\"2019\": \"B25070_007E\", \"2018\": \"\", \"2017\": \"\", \"2016\": \"\", \"2015\": \"\"},\n",
    "    \"Gross_Rent_P_of_Inc_35_39.9\": {\"2019\": \"B25070_008E\", \"2018\": \"\", \"2017\": \"\", \"2016\": \"\", \"2015\": \"\"},\n",
    "    \"Gross_Rent_P_of_Inc_40_49.9\": {\"2019\": \"B25070_009E\", \"2018\": \"\", \"2017\": \"\", \"2016\": \"\", \"2015\": \"\"},\n",
    "    \"Gross_Rent_P_of_Inc_G50\": {\"2019\": \"B25070_010E\", \"2018\": \"\", \"2017\": \"\", \"2016\": \"\", \"2015\": \"\"},\n",
    "    \"Gross_Rent_P_of_Inc_NA\": {\"2019\": \"B25070_011E\", \"2018\": \"\", \"2017\": \"\", \"2016\": \"\", \"2015\": \"\"},\n",
    "}"
   ]
  },
  {
   "cell_type": "code",
   "execution_count": null,
   "id": "strange-perfume",
   "metadata": {},
   "outputs": [],
   "source": []
  }
 ],
 "metadata": {
  "kernelspec": {
   "display_name": "Python 3",
   "language": "python",
   "name": "python3"
  },
  "language_info": {
   "codemirror_mode": {
    "name": "ipython",
    "version": 3
   },
   "file_extension": ".py",
   "mimetype": "text/x-python",
   "name": "python",
   "nbconvert_exporter": "python",
   "pygments_lexer": "ipython3",
   "version": "3.9.1"
  }
 },
 "nbformat": 4,
 "nbformat_minor": 5
}
